{
 "cells": [
  {
   "cell_type": "code",
   "execution_count": 4,
   "id": "ea63a130",
   "metadata": {},
   "outputs": [],
   "source": [
    "import cupy as cp\n",
    "import numpy as np\n",
    "import matplotlib.pyplot as plt\n",
    "from scipy.interpolate import Akima1DInterpolator\n",
    "from scipy.signal import hilbert\n",
    "\n",
    "from time import time\n",
    "from timuscle.dataio import verasonics_loadbmoderf"
   ]
  },
  {
   "cell_type": "code",
   "execution_count": 5,
   "id": "6a36e7b1",
   "metadata": {},
   "outputs": [
    {
     "ename": "CUDADriverError",
     "evalue": "CUDA_ERROR_ILLEGAL_ADDRESS: an illegal memory access was encountered",
     "output_type": "error",
     "traceback": [
      "\u001b[0;31m---------------------------------------------------------------------------\u001b[0m",
      "\u001b[0;31mCUDADriverError\u001b[0m                           Traceback (most recent call last)",
      "Cell \u001b[0;32mIn[5], line 4\u001b[0m\n\u001b[1;32m      1\u001b[0m \u001b[38;5;28;01mwith\u001b[39;00m \u001b[38;5;28mopen\u001b[39m(\u001b[38;5;124m\"\u001b[39m\u001b[38;5;124mcupy_module.cu\u001b[39m\u001b[38;5;124m\"\u001b[39m, mode\u001b[38;5;241m=\u001b[39m\u001b[38;5;124m'\u001b[39m\u001b[38;5;124mr\u001b[39m\u001b[38;5;124m'\u001b[39m) \u001b[38;5;28;01mas\u001b[39;00m fp: raw_module \u001b[38;5;241m=\u001b[39m fp\u001b[38;5;241m.\u001b[39mread()\n\u001b[1;32m      2\u001b[0m module \u001b[38;5;241m=\u001b[39m cp\u001b[38;5;241m.\u001b[39mRawModule(code\u001b[38;5;241m=\u001b[39mraw_module)\n\u001b[0;32m----> 4\u001b[0m das_bmode_cubic \u001b[38;5;241m=\u001b[39m \u001b[43mmodule\u001b[49m\u001b[38;5;241;43m.\u001b[39;49m\u001b[43mget_function\u001b[49m\u001b[43m(\u001b[49m\u001b[38;5;124;43m\"\u001b[39;49m\u001b[38;5;124;43mdas_bmode_cubic\u001b[39;49m\u001b[38;5;124;43m\"\u001b[39;49m\u001b[43m)\u001b[49m\n\u001b[1;32m      5\u001b[0m das_bmode_rxseparate_cubic \u001b[38;5;241m=\u001b[39m module\u001b[38;5;241m.\u001b[39mget_function(\u001b[38;5;124m\"\u001b[39m\u001b[38;5;124mdas_bmode_rxseparate_cubic\u001b[39m\u001b[38;5;124m\"\u001b[39m)\n\u001b[1;32m      7\u001b[0m xInfo \u001b[38;5;241m=\u001b[39m np\u001b[38;5;241m.\u001b[39mdtype([(\u001b[38;5;124m'\u001b[39m\u001b[38;5;124mx0\u001b[39m\u001b[38;5;124m'\u001b[39m, np\u001b[38;5;241m.\u001b[39mfloat32),(\u001b[38;5;124m'\u001b[39m\u001b[38;5;124mdx\u001b[39m\u001b[38;5;124m'\u001b[39m, np\u001b[38;5;241m.\u001b[39mfloat32),(\u001b[38;5;124m'\u001b[39m\u001b[38;5;124mnx\u001b[39m\u001b[38;5;124m'\u001b[39m, np\u001b[38;5;241m.\u001b[39mint32)])\n",
      "File \u001b[0;32mcupy/_core/raw.pyx:487\u001b[0m, in \u001b[0;36mcupy._core.raw.RawModule.get_function\u001b[0;34m()\u001b[0m\n",
      "File \u001b[0;32mcupy/_core/raw.pyx:100\u001b[0m, in \u001b[0;36mcupy._core.raw.RawKernel.kernel.__get__\u001b[0;34m()\u001b[0m\n",
      "File \u001b[0;32mcupy/_core/raw.pyx:121\u001b[0m, in \u001b[0;36mcupy._core.raw.RawKernel._kernel\u001b[0;34m()\u001b[0m\n",
      "File \u001b[0;32mcupy/cuda/function.pyx:275\u001b[0m, in \u001b[0;36mcupy.cuda.function.Module.get_function\u001b[0;34m()\u001b[0m\n",
      "File \u001b[0;32mcupy/cuda/function.pyx:216\u001b[0m, in \u001b[0;36mcupy.cuda.function.Function.__init__\u001b[0;34m()\u001b[0m\n",
      "File \u001b[0;32mcupy_backends/cuda/api/driver.pyx:244\u001b[0m, in \u001b[0;36mcupy_backends.cuda.api.driver.moduleGetFunction\u001b[0;34m()\u001b[0m\n",
      "File \u001b[0;32mcupy_backends/cuda/api/driver.pyx:63\u001b[0m, in \u001b[0;36mcupy_backends.cuda.api.driver.check_status\u001b[0;34m()\u001b[0m\n",
      "\u001b[0;31mCUDADriverError\u001b[0m: CUDA_ERROR_ILLEGAL_ADDRESS: an illegal memory access was encountered"
     ]
    }
   ],
   "source": [
    "with open(\"cupy_module.cu\", mode='r') as fp: raw_module = fp.read()\n",
    "module = cp.RawModule(code=raw_module)\n",
    "\n",
    "das_bmode_cubic = module.get_function(\"das_bmode_cubic\")\n",
    "das_bmode_rxseparate_cubic = module.get_function(\"das_bmode_rxseparate_cubic\")\n",
    "\n",
    "xInfo = np.dtype([('x0', np.float32),('dx', np.float32),('nx', np.int32)])\n",
    "RFInfo = np.dtype([('ntx', np.int32),('nrx', np.int32),('ndim', np.int32),('tInfo', xInfo)])"
   ]
  },
  {
   "cell_type": "code",
   "execution_count": null,
   "id": "c92a28e6",
   "metadata": {},
   "outputs": [
    {
     "name": "stdout",
     "output_type": "stream",
     "text": [
      "(128, 36, 11, 1536) [-10.  -8.  -6.  -4.  -2.   0.   2.   4.   6.   8.  10.]\n",
      "float32\n",
      "[(11, 128, 2, (9.6e-07, 4.8e-08, 1536))]\n",
      "(128, 1574, 501) (11, 128, 1536)\n",
      "[35094528]\n",
      "[1258291200]\n",
      "Starting beamforming\n",
      "Done beamforming, 0.1704692840576172 ms\n"
     ]
    },
    {
     "ename": "CUDARuntimeError",
     "evalue": "cudaErrorIllegalAddress: an illegal memory access was encountered",
     "output_type": "error",
     "traceback": [
      "\u001b[0;31m---------------------------------------------------------------------------\u001b[0m",
      "\u001b[0;31mCUDARuntimeError\u001b[0m                          Traceback (most recent call last)",
      "Cell \u001b[0;32mIn[3], line 82\u001b[0m\n\u001b[1;32m     80\u001b[0m tstop \u001b[38;5;241m=\u001b[39m time()\n\u001b[1;32m     81\u001b[0m \u001b[38;5;28mprint\u001b[39m(\u001b[38;5;124mf\u001b[39m\u001b[38;5;124m\"\u001b[39m\u001b[38;5;124mDone beamforming, \u001b[39m\u001b[38;5;132;01m{\u001b[39;00m\u001b[38;5;241m1E3\u001b[39m\u001b[38;5;241m*\u001b[39m(tstop\u001b[38;5;241m-\u001b[39mtstart)\u001b[38;5;132;01m}\u001b[39;00m\u001b[38;5;124m ms\u001b[39m\u001b[38;5;124m\"\u001b[39m)\n\u001b[0;32m---> 82\u001b[0m ims \u001b[38;5;241m=\u001b[39m \u001b[43mcp\u001b[49m\u001b[38;5;241;43m.\u001b[39;49m\u001b[43masnumpy\u001b[49m\u001b[43m(\u001b[49m\u001b[43mpout\u001b[49m\u001b[43m)\u001b[49m\n\u001b[1;32m     83\u001b[0m \u001b[38;5;28;01mdel\u001b[39;00m pout, allrf, \n",
      "File \u001b[0;32m~/miniconda3/envs/timuscle/lib/python3.12/site-packages/cupy/__init__.py:807\u001b[0m, in \u001b[0;36masnumpy\u001b[0;34m(a, stream, order, out, blocking)\u001b[0m\n\u001b[1;32m    783\u001b[0m \u001b[38;5;250m\u001b[39m\u001b[38;5;124;03m\"\"\"Returns an array on the host memory from an arbitrary source array.\u001b[39;00m\n\u001b[1;32m    784\u001b[0m \n\u001b[1;32m    785\u001b[0m \u001b[38;5;124;03mArgs:\u001b[39;00m\n\u001b[0;32m   (...)\u001b[0m\n\u001b[1;32m    804\u001b[0m \n\u001b[1;32m    805\u001b[0m \u001b[38;5;124;03m\"\"\"\u001b[39;00m\n\u001b[1;32m    806\u001b[0m \u001b[38;5;28;01mif\u001b[39;00m \u001b[38;5;28misinstance\u001b[39m(a, ndarray):\n\u001b[0;32m--> 807\u001b[0m     \u001b[38;5;28;01mreturn\u001b[39;00m \u001b[43ma\u001b[49m\u001b[38;5;241;43m.\u001b[39;49m\u001b[43mget\u001b[49m\u001b[43m(\u001b[49m\u001b[43mstream\u001b[49m\u001b[38;5;241;43m=\u001b[39;49m\u001b[43mstream\u001b[49m\u001b[43m,\u001b[49m\u001b[43m \u001b[49m\u001b[43morder\u001b[49m\u001b[38;5;241;43m=\u001b[39;49m\u001b[43morder\u001b[49m\u001b[43m,\u001b[49m\u001b[43m \u001b[49m\u001b[43mout\u001b[49m\u001b[38;5;241;43m=\u001b[39;49m\u001b[43mout\u001b[49m\u001b[43m,\u001b[49m\u001b[43m \u001b[49m\u001b[43mblocking\u001b[49m\u001b[38;5;241;43m=\u001b[39;49m\u001b[43mblocking\u001b[49m\u001b[43m)\u001b[49m\n\u001b[1;32m    808\u001b[0m \u001b[38;5;28;01melif\u001b[39;00m \u001b[38;5;28mhasattr\u001b[39m(a, \u001b[38;5;124m\"\u001b[39m\u001b[38;5;124m__cuda_array_interface__\u001b[39m\u001b[38;5;124m\"\u001b[39m):\n\u001b[1;32m    809\u001b[0m     \u001b[38;5;28;01mreturn\u001b[39;00m array(a)\u001b[38;5;241m.\u001b[39mget(\n\u001b[1;32m    810\u001b[0m         stream\u001b[38;5;241m=\u001b[39mstream, order\u001b[38;5;241m=\u001b[39morder, out\u001b[38;5;241m=\u001b[39mout, blocking\u001b[38;5;241m=\u001b[39mblocking)\n",
      "File \u001b[0;32mcupy/_core/core.pyx:1820\u001b[0m, in \u001b[0;36mcupy._core.core._ndarray_base.get\u001b[0;34m()\u001b[0m\n",
      "File \u001b[0;32mcupy/_core/core.pyx:1910\u001b[0m, in \u001b[0;36mcupy._core.core._ndarray_base.get\u001b[0;34m()\u001b[0m\n",
      "File \u001b[0;32mcupy/cuda/memory.pyx:586\u001b[0m, in \u001b[0;36mcupy.cuda.memory.MemoryPointer.copy_to_host_async\u001b[0;34m()\u001b[0m\n",
      "File \u001b[0;32mcupy_backends/cuda/api/runtime.pyx:607\u001b[0m, in \u001b[0;36mcupy_backends.cuda.api.runtime.memcpyAsync\u001b[0;34m()\u001b[0m\n",
      "File \u001b[0;32mcupy_backends/cuda/api/runtime.pyx:146\u001b[0m, in \u001b[0;36mcupy_backends.cuda.api.runtime.check_status\u001b[0;34m()\u001b[0m\n",
      "\u001b[0;31mCUDARuntimeError\u001b[0m: cudaErrorIllegalAddress: an illegal memory access was encountered"
     ]
    }
   ],
   "source": [
    "datapath = \"/fastrs/ultrasound/TIMuscle/InVivo/20230421_V001/acq_2_flex_45_musc_vl/RawData/\"\n",
    "\n",
    "rf, dims, rfpar = verasonics_loadbmoderf(datapath)\n",
    "\n",
    "print(rf.shape, dims['steer_deg'])\n",
    "\n",
    "xele = dims['xele_m']\n",
    "steers = dims['steer_deg']\n",
    "t = dims['t_sec']\n",
    "\n",
    "c0 = 1540\n",
    "r0 = 10\n",
    "\n",
    "origtx = cp.ascontiguousarray(cp.array([[xele[-1] if steer <= 0 else xele[0] for steer in steers], np.zeros(steers.shape)], dtype=np.float32).T, dtype=cp.float32)\n",
    "\n",
    "# calculate point source location to approximate plane waves\n",
    "ovectx = cp.ascontiguousarray(-r0 * cp.array([np.sin(np.radians(steers)), np.cos(np.radians(steers))]).T, dtype=np.float32)\n",
    "\n",
    "# calculate normal vector of point source\n",
    "nvectx = cp.ascontiguousarray(cp.array([np.sin(np.radians(steers)), np.cos(np.radians(steers))]).T, dtype=np.float32)\n",
    "\n",
    "t0tx = -cp.linalg.norm(origtx - ovectx, axis=-1)/c0\n",
    "\n",
    "dof = cp.zeros(len(t0tx), dtype=np.float32)\n",
    "\n",
    "# calculate acceptance angle for plane wave source approximated as a point\n",
    "dxo = origtx - ovectx\n",
    "alatx = cp.arccos(cp.abs(cp.sum(dxo * nvectx, axis=-1)) / cp.linalg.norm(dxo, axis=-1))\n",
    "\n",
    "print(t0tx.dtype)\n",
    "\n",
    "ovecrx = cp.ascontiguousarray(cp.array([xele, np.zeros(len(xele))]).T, dtype=np.float32)\n",
    "nvecrx = cp.ascontiguousarray(cp.array([np.zeros(len(xele)), np.ones(len(xele))]).T, dtype=np.float32)\n",
    "alarx = np.radians(30) * cp.ones(len(xele), dtype=np.float32)\n",
    "\n",
    "rfinfo = np.zeros(1, dtype=RFInfo)\n",
    "rfinfo['ntx'] = len(steers)\n",
    "rfinfo['nrx'] = len(xele)\n",
    "rfinfo['ndim'] = 2\n",
    "rfinfo['tInfo']['x0'] = t[0]\n",
    "rfinfo['tInfo']['dx'] = t[1] - t[0]\n",
    "rfinfo['tInfo']['nx'] = len(t)\n",
    "\n",
    "print(rfinfo)\n",
    "\n",
    "xout = 1E-3*np.linspace(-22.5, 22.5, 501)\n",
    "zout = 1E-3*np.arange(1, 60, 0.15/4)\n",
    "Px, Pz = np.meshgrid(xout, zout, indexing='ij')\n",
    "pvec = cp.ascontiguousarray(cp.array([Px, Pz]).transpose(2, 1, 0), dtype=np.float32)\n",
    "\n",
    "pout = cp.zeros((1, pvec.shape[0], pvec.shape[1]), dtype=np.float32)\n",
    "allrf = cp.ascontiguousarray(cp.array(rf[:,12,:,:]).transpose(1,0,2), dtype=np.float32)\n",
    "\n",
    "print(pout.shape, allrf.shape)\n",
    "\n",
    "print(rfinfo['nrx'] * (pout.size))\n",
    "print([128*128*300*256])\n",
    "\n",
    "print(\"Starting beamforming\")\n",
    "tstart = time()\n",
    "for irf in [12]:\n",
    "    params = (\n",
    "        rfinfo,\n",
    "        allrf[0],\n",
    "        ovectx,\n",
    "        nvectx,\n",
    "        t0tx,\n",
    "        alatx,\n",
    "        dof,\n",
    "        ovecrx,\n",
    "        nvecrx,\n",
    "        alarx,\n",
    "        np.float32(c0),\n",
    "        np.int32(pout[0].size),\n",
    "        pvec,\n",
    "        pout\n",
    "    )\n",
    "\n",
    "    das_bmode_cubic((128,128,256), (1024,1,1), params)\n",
    "tstop = time()\n",
    "print(f\"Done beamforming, {1E3*(tstop-tstart)} ms\")\n",
    "ims = cp.asnumpy(pout)\n",
    "del pout, allrf, "
   ]
  },
  {
   "cell_type": "code",
   "execution_count": null,
   "id": "000cab04",
   "metadata": {},
   "outputs": [
    {
     "data": {
      "text/plain": [
       "(788574, 1002)"
      ]
     },
     "execution_count": 5,
     "metadata": {},
     "output_type": "execute_result"
    }
   ],
   "source": [
    "np.int32(pout[0].size), pvec.shape[1]*pvec.shape[2]"
   ]
  },
  {
   "cell_type": "code",
   "execution_count": null,
   "id": "a34990aa",
   "metadata": {},
   "outputs": [
    {
     "ename": "NameError",
     "evalue": "name 'ims' is not defined",
     "output_type": "error",
     "traceback": [
      "\u001b[0;31m---------------------------------------------------------------------------\u001b[0m",
      "\u001b[0;31mNameError\u001b[0m                                 Traceback (most recent call last)",
      "Cell \u001b[0;32mIn[5], line 1\u001b[0m\n\u001b[0;32m----> 1\u001b[0m \u001b[43mims\u001b[49m\u001b[38;5;241m.\u001b[39mshape\n\u001b[1;32m      3\u001b[0m extent \u001b[38;5;241m=\u001b[39m \u001b[38;5;241m1E3\u001b[39m\u001b[38;5;241m*\u001b[39mnp\u001b[38;5;241m.\u001b[39marray([xout[\u001b[38;5;241m0\u001b[39m], xout[\u001b[38;5;241m-\u001b[39m\u001b[38;5;241m1\u001b[39m], zout[\u001b[38;5;241m-\u001b[39m\u001b[38;5;241m1\u001b[39m], zout[\u001b[38;5;241m0\u001b[39m]])\n\u001b[1;32m      5\u001b[0m env \u001b[38;5;241m=\u001b[39m np\u001b[38;5;241m.\u001b[39mabs(hilbert(np\u001b[38;5;241m.\u001b[39msum(ims[:], axis\u001b[38;5;241m=\u001b[39m\u001b[38;5;241m0\u001b[39m), axis\u001b[38;5;241m=\u001b[39m\u001b[38;5;241m0\u001b[39m))\n",
      "\u001b[0;31mNameError\u001b[0m: name 'ims' is not defined"
     ]
    }
   ],
   "source": [
    "ims.shape\n",
    "\n",
    "extent = 1E3*np.array([xout[0], xout[-1], zout[-1], zout[0]])\n",
    "\n",
    "env = np.abs(hilbert(np.sum(ims[:], axis=0), axis=0))\n",
    "logged = 20*np.log10(env/np.percentile(env, 99))\n",
    "plt.figure()\n",
    "plt.imshow(logged, vmin=-35, vmax=5, cmap='gray', extent=extent)\n",
    "plt.show()"
   ]
  }
 ],
 "metadata": {
  "kernelspec": {
   "display_name": "timuscle",
   "language": "python",
   "name": "python3"
  },
  "language_info": {
   "codemirror_mode": {
    "name": "ipython",
    "version": 3
   },
   "file_extension": ".py",
   "mimetype": "text/x-python",
   "name": "python",
   "nbconvert_exporter": "python",
   "pygments_lexer": "ipython3",
   "version": "3.12.1"
  }
 },
 "nbformat": 4,
 "nbformat_minor": 5
}
